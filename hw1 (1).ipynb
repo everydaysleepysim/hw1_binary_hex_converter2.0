{
 "cells": [
  {
   "cell_type": "code",
   "execution_count": 7,
   "id": "6ca79fa4-f7c6-4cd3-a277-e2a2e96cd32e",
   "metadata": {},
   "outputs": [
    {
     "name": "stdin",
     "output_type": "stream",
     "text": [
      "請輸入 0-255 的數字:  76\n"
     ]
    },
    {
     "name": "stdout",
     "output_type": "stream",
     "text": [
      "十進位: 76\n",
      "二進位: 01001100\n",
      "十六進位: 4C\n"
     ]
    }
   ],
   "source": [
    "def convert():\n",
    "    value = input(\"請輸入 0-255 的數字: \")\n",
    "\n",
    "    if not value.isdigit():  # 確保輸入的是數字\n",
    "        print(\"錯誤！請輸入有效數字\")\n",
    "        return\n",
    "\n",
    "    value = int(value)\n",
    "    if value < 0 or value > 255:  # 限制輸入範圍\n",
    "        print(\"輸入超出範圍，請重新輸入 0-255\")\n",
    "        return\n",
    "\n",
    "    # 計算二進位\n",
    "    bin_str = \"\"\n",
    "    num_copy = value  # 保存原始值\n",
    "    for exp in range(7, -1, -1):\n",
    "        if num_copy >= 2 ** exp:\n",
    "            bin_str += \"1\"\n",
    "            num_copy -= 2 ** exp\n",
    "        else:\n",
    "            bin_str += \"0\"\n",
    "\n",
    "    # 計算十六進位\n",
    "    hex_chars = \"0123456789ABCDEF\"\n",
    "    left_part = bin_str[:4]  # 前四位\n",
    "    right_part = bin_str[4:]  # 後四位\n",
    "    left_num = sum(int(left_part[i]) * (2 ** (3 - i)) for i in range(4))\n",
    "    right_num = sum(int(right_part[i]) * (2 ** (3 - i)) for i in range(4))\n",
    "\n",
    "    hex_output = hex_chars[left_num] + hex_chars[right_num]\n",
    "\n",
    "    print(\"十進位:\", value)\n",
    "    print(\"二進位:\", bin_str)\n",
    "    print(\"十六進位:\", hex_output)\n",
    "\n",
    "convert()  # 執行程式\n"
   ]
  },
  {
   "cell_type": "code",
   "execution_count": null,
   "id": "d3e3cd24-ac68-48ee-8392-a7c717227816",
   "metadata": {},
   "outputs": [],
   "source": []
  }
 ],
 "metadata": {
  "kernelspec": {
   "display_name": "Python 3 (ipykernel)",
   "language": "python",
   "name": "python3"
  },
  "language_info": {
   "codemirror_mode": {
    "name": "ipython",
    "version": 3
   },
   "file_extension": ".py",
   "mimetype": "text/x-python",
   "name": "python",
   "nbconvert_exporter": "python",
   "pygments_lexer": "ipython3",
   "version": "3.12.7"
  }
 },
 "nbformat": 4,
 "nbformat_minor": 5
}
